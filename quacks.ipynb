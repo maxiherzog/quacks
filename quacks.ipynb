{
 "cells": [
  {
   "cell_type": "code",
   "execution_count": 69,
   "metadata": {},
   "outputs": [],
   "source": [
    "# import abc\n",
    "from abc import ABC, abstractmethod\n",
    "from collections import OrderedDict \n",
    "import random"
   ]
  },
  {
   "cell_type": "code",
   "execution_count": 178,
   "metadata": {},
   "outputs": [
    {
     "name": "stdout",
     "output_type": "stream",
     "text": [
      "53\n",
      "53\n",
      "Kessel([(3, KnallChip(3)), (4, KnallChip(1))])\n"
     ]
    }
   ],
   "source": [
    "\n",
    "\n",
    "class Sack:\n",
    "    def __init__(self, chips):\n",
    "        self.chips = chips\n",
    "        \n",
    "    def ziehen(self):\n",
    "        index = random.randint(0,len(self.chips)-1)\n",
    "        return self.chips.pop(index) \n",
    "    \n",
    "\n",
    "moneros = [0, 1, 2, 3, 4, 5, 6, 7, 8, 9,10,11,12,13,14,15,15,16,16,17,17,18,18,19,19,20,20,21,21,22,22,23,23,24,24,25,25,26,26,27,27,28,28,29,29,30,30,31,31,32,32,33,33]\n",
    "rubinis = [0, 0, 0, 0, 0, 1, 0, 0, 0, 1, 0, 0, 0, 1, 0, 0, 1, 0, 0, 0, 1, 0, 0, 0, 1, 0, 0, 0, 1, 0, 1, 0, 0, 0, 1, 0, 1, 0, 0, 0, 1, 0, 1, 0, 0, 0, 1, 0, 0, 0, 1, 0, 1]\n",
    "siegis =  [0, 0, 0, 0, 0, 0, 1, 1, 1, 1, 2, 2, 2, 2, 3, 3, 3, 3, 4, 4, 4, 4, 5, 5, 5, 5, 6, 6, 6, 7, 7, 7, 8, 8, 8, 9, 9, 9,10,10,10,11,11,11,12,12,12,12,13,13,13,14,14]\n",
    "print(len(moneros))\n",
    "print(len(rubinis))\n",
    "        \n",
    "class Kessel(OrderedDict): \n",
    "    def __init__(self) -> None:\n",
    "        self.exploded = False\n",
    "    \n",
    "    def brauen(self,sack:Sack):\n",
    "        chip = sack.ziehen()\n",
    "        position = chip.played(self)\n",
    "        # TODO: check if previous board modifies position further (in a way not specific to chip)\n",
    "        \n",
    "        self[position] = chip\n",
    "        \n",
    "        if chip.knallerbse:\n",
    "            if self.getNumberOfKind(KnallChip) > 7:\n",
    "                print(\"BOOM\")\n",
    "                self.exploded = True\n",
    "                \n",
    "    def wertung(self):\n",
    "        # TODO: implement getting rubins for green chip at last 2 spots\n",
    "        # TODO: implement getting siegis/rubins/drops for purple\n",
    "        pass\n",
    "                \n",
    "    def getCurrenPosition(self):\n",
    "        if len(self) == 0:\n",
    "            return 0\n",
    "        return next(reversed(self))\n",
    "    \n",
    "    def getNumberOfKind(self, kind):\n",
    "        return len([x for x in self.values() if isinstance(x, kind)])\n",
    "    \n",
    "    def getSumOfKind(self, kind):\n",
    "        return sum([x.value for x in self.values() if isinstance(x, kind)])\n",
    "\n",
    "class Chip:\n",
    "    def __init__(self, value, knallerbse=False):\n",
    "        self.value = value\n",
    "        self.knallerbse = knallerbse\n",
    "    \n",
    "    def __repr__(self) -> str:\n",
    "        return str(self.__class__.__name__) + \"(\" +str(self.value)+\")\"\n",
    "        \n",
    "    def played(self, kessel:Kessel):\n",
    "        #Warning(\"Not implemented\")\n",
    "        return kessel.getCurrenPosition() + self.value\n",
    "    \n",
    "class RedChip(Chip):\n",
    "    def __init__(self, value):\n",
    "        super().__init__(value, knallerbse=False)\n",
    "        \n",
    "    def played(self, kessel:Kessel):\n",
    "        additional = 0\n",
    "        n_orange = kessel.getNumberOfKind(OrangeChip)\n",
    "        if n_orange > 0:\n",
    "            additional = 1\n",
    "        elif n_orange > 2:\n",
    "            additional = 2\n",
    "        return kessel.getCurrenPosition() + self.value + additional\n",
    "        \n",
    "class OrangeChip(Chip):\n",
    "    def __init__(self, value):\n",
    "        super().__init__(value, knallerbse=False)\n",
    "        \n",
    "class GreenChip(Chip):\n",
    "    def __init__(self, value):\n",
    "        super().__init__(value, knallerbse=False)\n",
    "        \n",
    "class YellowChip(Chip):\n",
    "    def __init__(self, value, knallerbse=False):\n",
    "        super().__init__(value, knallerbse)\n",
    "\n",
    "class KnallChip(Chip):\n",
    "    def __init__(self, value):\n",
    "        super().__init__(value, knallerbse=True)\n",
    "    \n",
    "    def played(self, kessel:Kessel):\n",
    "        return super().played(kessel)\n",
    "\n",
    "\n",
    "initial_content = [KnallChip(1)]*4 + [KnallChip(2)]*2 + [KnallChip(3)]*1+ [OrangeChip(1)]*1 + [GreenChip(1)]*1\n",
    "\n",
    "sack1 = Sack(initial_content)\n",
    "\n",
    "kessel1 = Kessel()\n",
    "kessel1.brauen(sack=sack1)\n",
    "kessel1.brauen(sack=sack1)\n",
    "\n",
    "print(kessel1)"
   ]
  },
  {
   "cell_type": "code",
   "execution_count": 179,
   "metadata": {},
   "outputs": [
    {
     "data": {
      "text/plain": [
       "4"
      ]
     },
     "execution_count": 179,
     "metadata": {},
     "output_type": "execute_result"
    }
   ],
   "source": [
    "kessel1.getSumOfKind(KnallChip)"
   ]
  },
  {
   "cell_type": "code",
   "execution_count": 42,
   "metadata": {},
   "outputs": [
    {
     "data": {
      "text/plain": [
       "'erer'"
      ]
     },
     "execution_count": 42,
     "metadata": {},
     "output_type": "execute_result"
    }
   ],
   "source": [
    "l = ['erer', 'ererera']\n",
    "l.pop(0)"
   ]
  },
  {
   "cell_type": "code",
   "execution_count": 43,
   "metadata": {},
   "outputs": [
    {
     "data": {
      "text/plain": [
       "['ererera']"
      ]
     },
     "execution_count": 43,
     "metadata": {},
     "output_type": "execute_result"
    }
   ],
   "source": [
    "l"
   ]
  },
  {
   "cell_type": "code",
   "execution_count": 55,
   "metadata": {},
   "outputs": [
    {
     "data": {
      "text/plain": [
       "OrderedDict([(0, 0), (1, 1), (2, 2), (4, 'ere')])"
      ]
     },
     "execution_count": 55,
     "metadata": {},
     "output_type": "execute_result"
    }
   ],
   "source": [
    "orddict = OrderedDict([(i, i) for i in range(3)])\n",
    "orddict[4] = 'ere'\n",
    "orddict"
   ]
  },
  {
   "cell_type": "code",
   "execution_count": 66,
   "metadata": {},
   "outputs": [
    {
     "data": {
      "text/plain": [
       "4"
      ]
     },
     "execution_count": 66,
     "metadata": {},
     "output_type": "execute_result"
    }
   ],
   "source": [
    "next(reversed(orddict))"
   ]
  }
 ],
 "metadata": {
  "kernelspec": {
   "display_name": "partition-macro-ZoebzHox-py3.11",
   "language": "python",
   "name": "python3"
  },
  "language_info": {
   "codemirror_mode": {
    "name": "ipython",
    "version": 3
   },
   "file_extension": ".py",
   "mimetype": "text/x-python",
   "name": "python",
   "nbconvert_exporter": "python",
   "pygments_lexer": "ipython3",
   "version": "3.11.7"
  }
 },
 "nbformat": 4,
 "nbformat_minor": 2
}
