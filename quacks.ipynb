{
 "cells": [
  {
   "cell_type": "code",
   "execution_count": 32,
   "metadata": {},
   "outputs": [],
   "source": [
    "# import abc\n",
    "from abc import ABC, abstractmethod\n",
    "from collections import OrderedDict \n",
    "import random"
   ]
  },
  {
   "cell_type": "code",
   "execution_count": 37,
   "metadata": {},
   "outputs": [
    {
     "name": "stdout",
     "output_type": "stream",
     "text": [
      "53\n",
      "53\n"
     ]
    },
    {
     "data": {
      "text/plain": [
       "[KnallChip(1),\n",
       " KnallChip(1),\n",
       " KnallChip(1),\n",
       " KnallChip(1),\n",
       " KnallChip(2),\n",
       " KnallChip(2),\n",
       " KnallChip(3),\n",
       " OrangeChip(1),\n",
       " GreenChip(1)]"
      ]
     },
     "execution_count": 37,
     "metadata": {},
     "output_type": "execute_result"
    }
   ],
   "source": [
    "\n",
    "\n",
    "class Sack:\n",
    "    def __init__(self, chips):\n",
    "        self.chips = chips\n",
    "        \n",
    "    def ziehen():\n",
    "        random.choice(self.chips)\n",
    "    \n",
    "\n",
    "moneros =     [0, 1, 2, 3, 4, 5, 6, 7, 8, 9,10,11,12,13,14,15,15,16,16,17,17,18,18,19,19,20,20,21,21,22,22,23,23,24,24,25,25,26,26,27,27,28,28,29,29,30,30,31,31,32,32,33,33]\n",
    "rubinis =     [0, 0, 0, 0, 0, 1, 0, 0, 0, 1, 0, 0, 0, 1, 0, 0, 1, 0, 0, 0, 1, 0, 0, 0, 1, 0, 0, 0, 1, 0, 1, 0, 0, 0, 1, 0, 1, 0, 0, 0, 1, 0, 1, 0, 0, 0, 1, 0, 0, 0, 1, 0, 1]\n",
    "siegis =      [0, 0, 0, 0, 0, 0, 1, 1, 1, 1, 2, 2, 2, 2, 3, 3, 3, 3, 4, 4, 4, 4, 5, 5, 5, 5, 6, 6, 6, 7, 7, 7, 8, 8, 8, 9, 9, 9,10,10,10,11,11,11,12,12,12,12,13,13,13,14,14]\n",
    "print(len(moneros))\n",
    "print(len(rubinis))\n",
    "        \n",
    "class Kessel(OrderedDict): \n",
    "    def __init__(self) -> None:\n",
    "        pass\n",
    "    \n",
    "    def werf(sack:Sack):\n",
    "        chip = Sack.ziehen()\n",
    "        position = chip.played(self)\n",
    "        self[position] = chip\n",
    "\n",
    "class Chip:\n",
    "    def __init__(self, value, knallerbse=False):\n",
    "        self.value = value\n",
    "        self.knallerbse = knallerbse\n",
    "    \n",
    "    def __repr__(self) -> str:\n",
    "        return str(self.__class__.__name__) + \"(\" +str(self.value)+\")\"\n",
    "        \n",
    "    @abstractmethod\n",
    "    def played(board:Kessel):\n",
    "        pass\n",
    "    \n",
    "class RedChip(Chip):\n",
    "    def __init__(self, value):\n",
    "        super().__init__(value, knallerbse=False)\n",
    "        \n",
    "class OrangeChip(Chip):\n",
    "    def __init__(self, value):\n",
    "        super().__init__(value, knallerbse=False)\n",
    "        \n",
    "class GreenChip(Chip):\n",
    "    def __init__(self, value):\n",
    "        super().__init__(value, knallerbse=False)\n",
    "\n",
    "class KnallChip(Chip):\n",
    "    def __init__(self, value):\n",
    "        super().__init__(value, knallerbse=True)\n",
    "\n",
    "\n",
    "\n",
    "initial_content = [KnallChip(1)]*4 + [KnallChip(2)]*2 + [KnallChip(3)]*1+ [OrangeChip(1)]*1 + [GreenChip(1)]*1\n",
    "\n",
    "sack1 = Sack(initial_content)\n",
    "\n",
    "\n",
    "\n",
    "\n",
    "initial_content"
   ]
  },
  {
   "cell_type": "code",
   "execution_count": null,
   "metadata": {},
   "outputs": [],
   "source": []
  },
  {
   "cell_type": "code",
   "execution_count": 35,
   "metadata": {},
   "outputs": [
    {
     "data": {
      "text/plain": [
       "OrderedDict([(0, 0), (1, 1), (2, 2), (4, 'ere')])"
      ]
     },
     "execution_count": 35,
     "metadata": {},
     "output_type": "execute_result"
    }
   ],
   "source": [
    "orddict = OrderedDict([(i, i) for i in range(3)])\n",
    "orddict[4] = 'ere'\n",
    "orddict"
   ]
  },
  {
   "cell_type": "code",
   "execution_count": 11,
   "metadata": {},
   "outputs": [
    {
     "data": {
      "text/plain": [
       "[<__main__.KnallChip at 0x7db8ff590190>,\n",
       " <__main__.KnallChip at 0x7db8ff590190>,\n",
       " <__main__.KnallChip at 0x7db8ff590190>,\n",
       " <__main__.KnallChip at 0x7db8ff590190>,\n",
       " <__main__.KnallChip at 0x7db8fff3c190>,\n",
       " <__main__.KnallChip at 0x7db8fff3c190>,\n",
       " <__main__.KnallChip at 0x7db8ff591410>,\n",
       " <__main__.OrangeChip at 0x7db8ff590b10>,\n",
       " <__main__.GreenChip at 0x7db8ff591a90>]"
      ]
     },
     "execution_count": 11,
     "metadata": {},
     "output_type": "execute_result"
    }
   ],
   "source": []
  }
 ],
 "metadata": {
  "kernelspec": {
   "display_name": "partition-macro-ZoebzHox-py3.11",
   "language": "python",
   "name": "python3"
  },
  "language_info": {
   "codemirror_mode": {
    "name": "ipython",
    "version": 3
   },
   "file_extension": ".py",
   "mimetype": "text/x-python",
   "name": "python",
   "nbconvert_exporter": "python",
   "pygments_lexer": "ipython3",
   "version": "3.11.7"
  }
 },
 "nbformat": 4,
 "nbformat_minor": 2
}
